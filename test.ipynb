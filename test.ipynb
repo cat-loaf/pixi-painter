{
 "cells": [
  {
   "cell_type": "code",
   "execution_count": 4,
   "id": "27f1cd83",
   "metadata": {},
   "outputs": [
    {
     "data": {
      "text/plain": [
       "(235, 64, 52, 255)"
      ]
     },
     "execution_count": 4,
     "metadata": {},
     "output_type": "execute_result"
    }
   ],
   "source": [
    "def hsv_to_rgba(hsv: tuple[int,int,int], a: int) -> tuple[int,int,int,int]:\n",
    "    \"\"\"Convert an HSV color to RGBA\n",
    "\n",
    "    Args:\n",
    "        hsv (HSV): Color in HSV (Hue:0-360, Saturation:0-100, Value:0-100)\n",
    "        a (int): Alpha value (0-255)\n",
    "\n",
    "    Returns:\n",
    "        RGBA: Color in RGBA format\n",
    "    \"\"\"\n",
    "    h, s, v = hsv\n",
    "    s /= 100.0\n",
    "    v /= 100.0\n",
    "\n",
    "    c = v * s\n",
    "    x = c * (1 - abs((h / 60) % 2 - 1))\n",
    "    m = v - c\n",
    "\n",
    "    if 0 <= h < 60:\n",
    "        r, g, b = c, x, 0\n",
    "    elif 60 <= h < 120:\n",
    "        r, g, b = x, c, 0\n",
    "    elif 120 <= h < 180:\n",
    "        r, g, b = 0, c, x\n",
    "    elif 180 <= h < 240:\n",
    "        r, g, b = 0, x, c\n",
    "    elif 240 <= h < 300:\n",
    "        r, g, b = x, 0, c\n",
    "    else:  # 300 <= h < 360\n",
    "        r, g, b = c, 0, x\n",
    "\n",
    "    return (\n",
    "        round((r + m) * 255),\n",
    "        round((g + m) * 255),\n",
    "        round((b + m) * 255),\n",
    "        a,\n",
    "    )\n",
    "    \n",
    "hsv_to_rgba((4,78,92),255)"
   ]
  }
 ],
 "metadata": {
  "kernelspec": {
   "display_name": "Python 3",
   "language": "python",
   "name": "python3"
  },
  "language_info": {
   "codemirror_mode": {
    "name": "ipython",
    "version": 3
   },
   "file_extension": ".py",
   "mimetype": "text/x-python",
   "name": "python",
   "nbconvert_exporter": "python",
   "pygments_lexer": "ipython3",
   "version": "3.12.4"
  }
 },
 "nbformat": 4,
 "nbformat_minor": 5
}
