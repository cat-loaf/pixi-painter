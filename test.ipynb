{
 "cells": [
  {
   "cell_type": "code",
   "execution_count": null,
   "id": "27f1cd83",
   "metadata": {},
   "outputs": [
    {
     "ename": "ZeroDivisionError",
     "evalue": "float division by zero",
     "output_type": "error",
     "traceback": [
      "\u001b[1;31m---------------------------------------------------------------------------\u001b[0m",
      "\u001b[1;31mZeroDivisionError\u001b[0m                         Traceback (most recent call last)",
      "Cell \u001b[1;32mIn[3], line 8\u001b[0m\n\u001b[0;32m      5\u001b[0m     b \u001b[38;5;241m=\u001b[39m (c1[\u001b[38;5;241m2\u001b[39m] \u001b[38;5;241m*\u001b[39m c1[\u001b[38;5;241m3\u001b[39m] \u001b[38;5;241m+\u001b[39m c2[\u001b[38;5;241m2\u001b[39m] \u001b[38;5;241m*\u001b[39m c2[\u001b[38;5;241m3\u001b[39m] \u001b[38;5;241m*\u001b[39m (\u001b[38;5;241m255\u001b[39m \u001b[38;5;241m-\u001b[39m c1[\u001b[38;5;241m3\u001b[39m]) \u001b[38;5;241m/\u001b[39m \u001b[38;5;241m255\u001b[39m) \u001b[38;5;241m/\u001b[39m alpha\n\u001b[0;32m      6\u001b[0m     \u001b[38;5;28;01mreturn\u001b[39;00m (\u001b[38;5;28mint\u001b[39m(r), \u001b[38;5;28mint\u001b[39m(g), \u001b[38;5;28mint\u001b[39m(b), \u001b[38;5;28mint\u001b[39m(alpha))\n\u001b[1;32m----> 8\u001b[0m \u001b[43mstack_rgba\u001b[49m\u001b[43m(\u001b[49m\u001b[43m(\u001b[49m\u001b[38;5;241;43m255\u001b[39;49m\u001b[43m,\u001b[49m\u001b[43m \u001b[49m\u001b[38;5;241;43m0\u001b[39;49m\u001b[43m,\u001b[49m\u001b[43m \u001b[49m\u001b[38;5;241;43m0\u001b[39;49m\u001b[43m,\u001b[49m\u001b[43m \u001b[49m\u001b[38;5;241;43m0\u001b[39;49m\u001b[43m)\u001b[49m\u001b[43m,\u001b[49m\u001b[43m \u001b[49m\u001b[43m(\u001b[49m\u001b[38;5;241;43m0\u001b[39;49m\u001b[43m,\u001b[49m\u001b[43m \u001b[49m\u001b[38;5;241;43m255\u001b[39;49m\u001b[43m,\u001b[49m\u001b[43m \u001b[49m\u001b[38;5;241;43m0\u001b[39;49m\u001b[43m,\u001b[49m\u001b[43m \u001b[49m\u001b[38;5;241;43m0\u001b[39;49m\u001b[43m)\u001b[49m\u001b[43m)\u001b[49m\n",
      "Cell \u001b[1;32mIn[3], line 3\u001b[0m, in \u001b[0;36mstack_rgba\u001b[1;34m(c1, c2)\u001b[0m\n\u001b[0;32m      1\u001b[0m \u001b[38;5;28;01mdef\u001b[39;00m \u001b[38;5;21mstack_rgba\u001b[39m(c1, c2):\n\u001b[0;32m      2\u001b[0m     alpha \u001b[38;5;241m=\u001b[39m \u001b[38;5;241m255\u001b[39m \u001b[38;5;241m-\u001b[39m ((\u001b[38;5;241m255\u001b[39m \u001b[38;5;241m-\u001b[39m c1[\u001b[38;5;241m3\u001b[39m]) \u001b[38;5;241m*\u001b[39m (\u001b[38;5;241m255\u001b[39m \u001b[38;5;241m-\u001b[39m c2[\u001b[38;5;241m3\u001b[39m])\u001b[38;5;241m/\u001b[39m\u001b[38;5;241m255\u001b[39m)\n\u001b[1;32m----> 3\u001b[0m     r \u001b[38;5;241m=\u001b[39m \u001b[43m(\u001b[49m\u001b[43mc1\u001b[49m\u001b[43m[\u001b[49m\u001b[38;5;241;43m0\u001b[39;49m\u001b[43m]\u001b[49m\u001b[43m \u001b[49m\u001b[38;5;241;43m*\u001b[39;49m\u001b[43m \u001b[49m\u001b[43mc1\u001b[49m\u001b[43m[\u001b[49m\u001b[38;5;241;43m3\u001b[39;49m\u001b[43m]\u001b[49m\u001b[43m \u001b[49m\u001b[38;5;241;43m+\u001b[39;49m\u001b[43m \u001b[49m\u001b[43mc2\u001b[49m\u001b[43m[\u001b[49m\u001b[38;5;241;43m0\u001b[39;49m\u001b[43m]\u001b[49m\u001b[43m \u001b[49m\u001b[38;5;241;43m*\u001b[39;49m\u001b[43m \u001b[49m\u001b[43mc2\u001b[49m\u001b[43m[\u001b[49m\u001b[38;5;241;43m3\u001b[39;49m\u001b[43m]\u001b[49m\u001b[43m \u001b[49m\u001b[38;5;241;43m*\u001b[39;49m\u001b[43m \u001b[49m\u001b[43m(\u001b[49m\u001b[38;5;241;43m255\u001b[39;49m\u001b[43m \u001b[49m\u001b[38;5;241;43m-\u001b[39;49m\u001b[43m \u001b[49m\u001b[43mc1\u001b[49m\u001b[43m[\u001b[49m\u001b[38;5;241;43m3\u001b[39;49m\u001b[43m]\u001b[49m\u001b[43m)\u001b[49m\u001b[43m \u001b[49m\u001b[38;5;241;43m/\u001b[39;49m\u001b[43m \u001b[49m\u001b[38;5;241;43m255\u001b[39;49m\u001b[43m)\u001b[49m\u001b[43m \u001b[49m\u001b[38;5;241;43m/\u001b[39;49m\u001b[43m \u001b[49m\u001b[43malpha\u001b[49m\n\u001b[0;32m      4\u001b[0m     g \u001b[38;5;241m=\u001b[39m (c1[\u001b[38;5;241m1\u001b[39m] \u001b[38;5;241m*\u001b[39m c1[\u001b[38;5;241m3\u001b[39m] \u001b[38;5;241m+\u001b[39m c2[\u001b[38;5;241m1\u001b[39m] \u001b[38;5;241m*\u001b[39m c2[\u001b[38;5;241m3\u001b[39m] \u001b[38;5;241m*\u001b[39m (\u001b[38;5;241m255\u001b[39m \u001b[38;5;241m-\u001b[39m c1[\u001b[38;5;241m3\u001b[39m]) \u001b[38;5;241m/\u001b[39m \u001b[38;5;241m255\u001b[39m) \u001b[38;5;241m/\u001b[39m alpha\n\u001b[0;32m      5\u001b[0m     b \u001b[38;5;241m=\u001b[39m (c1[\u001b[38;5;241m2\u001b[39m] \u001b[38;5;241m*\u001b[39m c1[\u001b[38;5;241m3\u001b[39m] \u001b[38;5;241m+\u001b[39m c2[\u001b[38;5;241m2\u001b[39m] \u001b[38;5;241m*\u001b[39m c2[\u001b[38;5;241m3\u001b[39m] \u001b[38;5;241m*\u001b[39m (\u001b[38;5;241m255\u001b[39m \u001b[38;5;241m-\u001b[39m c1[\u001b[38;5;241m3\u001b[39m]) \u001b[38;5;241m/\u001b[39m \u001b[38;5;241m255\u001b[39m) \u001b[38;5;241m/\u001b[39m alpha\n",
      "\u001b[1;31mZeroDivisionError\u001b[0m: float division by zero"
     ]
    }
   ],
   "source": [
    "\n",
    "def stack_rgba(c1, c2):\n",
    "    alpha = 255 - ((255 - c1[3]) * (255 - c2[3])/255)\n",
    "    if alpha == 0:\n",
    "        return (0, 0, 0, 0)\n",
    "    r = (c1[0] * c1[3] + c2[0] * c2[3] * (255 - c1[3]) / 255) / alpha\n",
    "    g = (c1[1] * c1[3] + c2[1] * c2[3] * (255 - c1[3]) / 255) / alpha\n",
    "    b = (c1[2] * c1[3] + c2[2] * c2[3] * (255 - c1[3]) / 255) / alpha\n",
    "    return (int(r), int(g), int(b), int(alpha))\n",
    "\n",
    "stack_rgba((255, 0, 0, 128), (0, 255, 0, 128))"
   ]
  }
 ],
 "metadata": {
  "kernelspec": {
   "display_name": "Python 3",
   "language": "python",
   "name": "python3"
  },
  "language_info": {
   "codemirror_mode": {
    "name": "ipython",
    "version": 3
   },
   "file_extension": ".py",
   "mimetype": "text/x-python",
   "name": "python",
   "nbconvert_exporter": "python",
   "pygments_lexer": "ipython3",
   "version": "3.12.4"
  }
 },
 "nbformat": 4,
 "nbformat_minor": 5
}
